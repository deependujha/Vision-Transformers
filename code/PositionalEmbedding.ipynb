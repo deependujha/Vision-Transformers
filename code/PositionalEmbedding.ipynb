{
 "cells": [
  {
   "cell_type": "markdown",
   "metadata": {},
   "source": [
    "## Positional Encoding\n",
    "\n",
    "<img src=\"../assets/positional-encoding.webp\" width=\"900\" height=\"500\"/>"
   ]
  },
  {
   "cell_type": "code",
   "execution_count": 1,
   "metadata": {},
   "outputs": [],
   "source": [
    "import torch\n",
    "import torch.nn as nn"
   ]
  },
  {
   "cell_type": "code",
   "execution_count": 2,
   "metadata": {},
   "outputs": [],
   "source": [
    "import math\n",
    "\n",
    "\n",
    "# helper Module that adds positional encoding to the token embedding to introduce a notion of word order.\n",
    "class PositionalEncoding(nn.Module):\n",
    "    def __init__(self, emb_size: int, dropout: float = 0.0, maxlen: int = 5000):\n",
    "        if emb_size % 2 != 0:\n",
    "            raise Exception(\"Embedding size must be even\")\n",
    "        super(PositionalEncoding, self).__init__()\n",
    "\n",
    "        # fancy logarithmic stuff to finally calculate 10000^(-2i/emb_size)\n",
    "        den = torch.exp(-torch.arange(0, emb_size, 2) * math.log(10000) / emb_size)\n",
    "        pos = torch.arange(0, maxlen).reshape(maxlen, 1)\n",
    "        pos_embedding = torch.zeros((maxlen, emb_size))\n",
    "\n",
    "        pos_embedding[:, 0::2] = torch.sin(\n",
    "            pos * den\n",
    "        )  # from 0th index to last index with a step of 2\n",
    "        pos_embedding[:, 1::2] = torch.cos(\n",
    "            pos * den\n",
    "        )  # from 1st index to last index with a step of 2\n",
    "\n",
    "        self.dropout = nn.Dropout(dropout)\n",
    "        self.register_buffer(\n",
    "            \"pos_embedding\", pos_embedding\n",
    "        )  # register the tensor as buffer - not updated during backprop\n",
    "\n",
    "    def forward(self, token_embedding):\n",
    "        # no learnable parameters\n",
    "        return self.dropout(token_embedding + self.pos_embedding)"
   ]
  },
  {
   "cell_type": "markdown",
   "metadata": {},
   "source": [
    "### Testing Positional Encoding\n",
    "\n",
    "1. Without batches"
   ]
  },
  {
   "cell_type": "code",
   "execution_count": 3,
   "metadata": {},
   "outputs": [
    {
     "data": {
      "text/plain": [
       "(torch.Size([10, 6]), torch.Size([10, 6]))"
      ]
     },
     "execution_count": 3,
     "metadata": {},
     "output_type": "execute_result"
    }
   ],
   "source": [
    "pe = PositionalEncoding(emb_size=6, dropout=0, maxlen=10)\n",
    "x = torch.zeros(10, 6)  # 10 is the number of tokens, 5 is the embedding size\n",
    "y = pe(x)\n",
    "\n",
    "y.shape, pe.pos_embedding.shape"
   ]
  },
  {
   "cell_type": "markdown",
   "metadata": {},
   "source": [
    "---\n",
    "\n",
    "2. With batches"
   ]
  },
  {
   "cell_type": "code",
   "execution_count": 4,
   "metadata": {},
   "outputs": [
    {
     "data": {
      "text/plain": [
       "(torch.Size([7, 10, 6]), torch.Size([10, 6]))"
      ]
     },
     "execution_count": 4,
     "metadata": {},
     "output_type": "execute_result"
    }
   ],
   "source": [
    "pe = PositionalEncoding(emb_size=6, dropout=0.1, maxlen=10)\n",
    "x = torch.zeros(\n",
    "    7, 10, 6\n",
    ")  # 7 is the batch size, 10 is the number of tokens, 5 is the embedding size\n",
    "y = pe(x)\n",
    "\n",
    "y.shape, pe.pos_embedding.shape"
   ]
  }
 ],
 "metadata": {
  "kernelspec": {
   "display_name": "Python 3",
   "language": "python",
   "name": "python3"
  },
  "language_info": {
   "codemirror_mode": {
    "name": "ipython",
    "version": 3
   },
   "file_extension": ".py",
   "mimetype": "text/x-python",
   "name": "python",
   "nbconvert_exporter": "python",
   "pygments_lexer": "ipython3",
   "version": "3.9.6"
  }
 },
 "nbformat": 4,
 "nbformat_minor": 2
}
