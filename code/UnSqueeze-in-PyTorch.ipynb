{
 "cells": [
  {
   "cell_type": "markdown",
   "metadata": {},
   "source": [
    "## UnSqueeze in PyTorch\n",
    "\n",
    "- UnSqueeze is a PyTorch function that adds a dimension to a tensor at the specified position."
   ]
  },
  {
   "cell_type": "code",
   "execution_count": 1,
   "metadata": {},
   "outputs": [],
   "source": [
    "import torch"
   ]
  },
  {
   "cell_type": "code",
   "execution_count": 2,
   "metadata": {},
   "outputs": [
    {
     "data": {
      "text/plain": [
       "(torch.Size([2, 2, 3]), 3)"
      ]
     },
     "execution_count": 2,
     "metadata": {},
     "output_type": "execute_result"
    }
   ],
   "source": [
    "a = torch.tensor([[[1, 2, 3], [4, 5, 6]], [[7, 8, 9], [10, 11, 12]]])\n",
    "\n",
    "a.shape, a.ndim"
   ]
  },
  {
   "cell_type": "markdown",
   "metadata": {},
   "source": [
    "In the above code, `a` has 3 dimensions.\n",
    "\n",
    "- If we add a new dimension, it will become a 4-dimensional tensor.\n",
    "- We can add this dimension at any position."
   ]
  },
  {
   "cell_type": "code",
   "execution_count": 3,
   "metadata": {},
   "outputs": [
    {
     "data": {
      "text/plain": [
       "(torch.Size([1, 2, 2, 3]), 4)"
      ]
     },
     "execution_count": 3,
     "metadata": {},
     "output_type": "execute_result"
    }
   ],
   "source": [
    "a.unsqueeze(0).shape, a.unsqueeze(0).ndim"
   ]
  },
  {
   "cell_type": "markdown",
   "metadata": {},
   "source": [
    "---\n",
    "\n",
    "### UnSqueeze with positive index"
   ]
  },
  {
   "cell_type": "code",
   "execution_count": 4,
   "metadata": {},
   "outputs": [
    {
     "name": "stdout",
     "output_type": "stream",
     "text": [
      "torch.Size([1, 2, 2, 3]) 4\n",
      "torch.Size([2, 1, 2, 3]) 4\n",
      "torch.Size([2, 2, 1, 3]) 4\n"
     ]
    }
   ],
   "source": [
    "for i in range(a.ndim):\n",
    "    print(a.unsqueeze(i).shape, a.unsqueeze(i).ndim)"
   ]
  },
  {
   "cell_type": "code",
   "execution_count": 5,
   "metadata": {},
   "outputs": [
    {
     "ename": "IndexError",
     "evalue": "Dimension out of range (expected to be in range of [-4, 3], but got 4)",
     "output_type": "error",
     "traceback": [
      "\u001b[0;31m---------------------------------------------------------------------------\u001b[0m",
      "\u001b[0;31mIndexError\u001b[0m                                Traceback (most recent call last)",
      "Cell \u001b[0;32mIn[5], line 2\u001b[0m\n\u001b[1;32m      1\u001b[0m \u001b[38;5;66;03m# if we pass a higher number than the number of dimensions, it will throw an error\u001b[39;00m\n\u001b[0;32m----> 2\u001b[0m \u001b[43ma\u001b[49m\u001b[38;5;241;43m.\u001b[39;49m\u001b[43munsqueeze\u001b[49m\u001b[43m(\u001b[49m\u001b[38;5;241;43m4\u001b[39;49m\u001b[43m)\u001b[49m\u001b[38;5;241m.\u001b[39mshape, a\u001b[38;5;241m.\u001b[39munsqueeze(\u001b[38;5;241m4\u001b[39m)\u001b[38;5;241m.\u001b[39mndim\n",
      "\u001b[0;31mIndexError\u001b[0m: Dimension out of range (expected to be in range of [-4, 3], but got 4)"
     ]
    }
   ],
   "source": [
    "# if we pass a higher number than the number of dimensions, it will throw an error\n",
    "a.unsqueeze(4).shape, a.unsqueeze(4).ndim"
   ]
  },
  {
   "cell_type": "markdown",
   "metadata": {},
   "source": [
    "---\n",
    "\n",
    "### UnSqueeze with negative index\n",
    "\n",
    "- (-1) is the last dimension.\n",
    "- (-2) is the second last dimension.\n",
    "- (-3) is the third last dimension.\n",
    "- and so on."
   ]
  },
  {
   "cell_type": "code",
   "execution_count": 6,
   "metadata": {},
   "outputs": [
    {
     "name": "stdout",
     "output_type": "stream",
     "text": [
      "torch.Size([2, 2, 3, 1]) 4\n",
      "torch.Size([2, 2, 1, 3]) 4\n",
      "torch.Size([2, 1, 2, 3]) 4\n",
      "torch.Size([1, 2, 2, 3]) 4\n"
     ]
    }
   ],
   "source": [
    "i = -1\n",
    "\n",
    "while i >= -a.ndim-1:\n",
    "    print(a.unsqueeze(i).shape, a.unsqueeze(i).ndim)\n",
    "    i -= 1"
   ]
  }
 ],
 "metadata": {
  "kernelspec": {
   "display_name": "Python 3",
   "language": "python",
   "name": "python3"
  },
  "language_info": {
   "codemirror_mode": {
    "name": "ipython",
    "version": 3
   },
   "file_extension": ".py",
   "mimetype": "text/x-python",
   "name": "python",
   "nbconvert_exporter": "python",
   "pygments_lexer": "ipython3",
   "version": "3.9.6"
  }
 },
 "nbformat": 4,
 "nbformat_minor": 2
}
