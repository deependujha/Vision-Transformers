{
 "cells": [
  {
   "cell_type": "markdown",
   "metadata": {},
   "source": [
    "## Patch Embedding\n",
    "\n",
    "<img src=\"../assets/patch-embedding.png\" width=\"700px\" height=\"400px\">"
   ]
  },
  {
   "cell_type": "code",
   "execution_count": 1,
   "metadata": {},
   "outputs": [],
   "source": [
    "import torch\n",
    "import torch.nn as nn"
   ]
  },
  {
   "cell_type": "code",
   "execution_count": 2,
   "metadata": {},
   "outputs": [],
   "source": [
    "class PatchEmbedding(nn.Module):\n",
    "    def __init__(self, embed_dim, patch_size, num_patches, dropout, in_channels):\n",
    "        super().__init__()\n",
    "        self.patcher = nn.Sequential(\n",
    "            nn.Conv2d(\n",
    "                in_channels=in_channels,\n",
    "                out_channels=embed_dim,\n",
    "                kernel_size=patch_size,\n",
    "                stride=patch_size, # take each patch_size pixel\n",
    "            ),\n",
    "            nn.Flatten(2), # flatten from the 2nd dimension to the end\n",
    "        )\n",
    "        \n",
    "        # special classification token\n",
    "        self.special_classification_token = nn.Parameter(\n",
    "            torch.randn(size=(1, in_channels, embed_dim)), requires_grad=True\n",
    "        )\n",
    "        \n",
    "        # here we're randomly initializing the position embeddings, else we could use the sin-cos positional encodings\n",
    "        self.position_embeddings = nn.Parameter(\n",
    "            torch.randn(size=(1, num_patches + 1, embed_dim)), requires_grad=True\n",
    "        )\n",
    "        self.dropout = nn.Dropout(p=dropout)\n",
    "\n",
    "    def forward(self, x):\n",
    "        cls_token = self.special_classification_token.expand(x.shape[0], -1, -1) # (B, input_channel, E)\n",
    "\n",
    "        x = self.patcher(x).permute(0, 2, 1)\n",
    "        x = torch.cat([cls_token, x], dim=1)\n",
    "        x = self.position_embeddings + x\n",
    "        x = self.dropout(x)\n",
    "        return x"
   ]
  },
  {
   "cell_type": "code",
   "execution_count": 3,
   "metadata": {},
   "outputs": [],
   "source": [
    "BATCH_SIZE = 512\n",
    "PATCH_SIZE = 4\n",
    "IMG_SIZE = 28\n",
    "IN_CHANNELS = 1\n",
    "DROPOUT = 0.001\n",
    "EMBED_DIM = (PATCH_SIZE**2) * IN_CHANNELS  # 16\n",
    "NUM_PATCHES = (IMG_SIZE // PATCH_SIZE) ** 2  # 49\n",
    "\n",
    "device = \"cuda\" if torch.cuda.is_available() else \"cpu\""
   ]
  },
  {
   "cell_type": "code",
   "execution_count": 4,
   "metadata": {},
   "outputs": [
    {
     "name": "stdout",
     "output_type": "stream",
     "text": [
      "torch.Size([512, 50, 16])\n"
     ]
    },
    {
     "data": {
      "text/plain": [
       "torch.Size([1, 1, 16])"
      ]
     },
     "execution_count": 4,
     "metadata": {},
     "output_type": "execute_result"
    }
   ],
   "source": [
    "model = PatchEmbedding(EMBED_DIM, PATCH_SIZE, NUM_PATCHES, DROPOUT, IN_CHANNELS).to(\n",
    "    device\n",
    ")\n",
    "x = torch.randn(512, 1, 28, 28).to(device)\n",
    "print(model(x).shape)\n",
    "\n",
    "model.special_classification_token.shape"
   ]
  }
 ],
 "metadata": {
  "kernelspec": {
   "display_name": "Python 3",
   "language": "python",
   "name": "python3"
  },
  "language_info": {
   "codemirror_mode": {
    "name": "ipython",
    "version": 3
   },
   "file_extension": ".py",
   "mimetype": "text/x-python",
   "name": "python",
   "nbconvert_exporter": "python",
   "pygments_lexer": "ipython3",
   "version": "3.9.6"
  }
 },
 "nbformat": 4,
 "nbformat_minor": 2
}
